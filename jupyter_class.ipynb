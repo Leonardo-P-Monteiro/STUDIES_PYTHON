{
 "cells": [
  {
   "cell_type": "markdown",
   "id": "3a82803c",
   "metadata": {},
   "source": [
    "# Getting to know Jupyter Notebook.\n",
    "\n",
    "This file is only get to know the Jupyter Notebook. "
   ]
  },
  {
   "cell_type": "code",
   "execution_count": 8,
   "id": "28234ad9-abf3-4504-988d-504443f47f86",
   "metadata": {},
   "outputs": [
    {
     "data": {
      "text/plain": [
       "5"
      ]
     },
     "execution_count": 8,
     "metadata": {},
     "output_type": "execute_result"
    }
   ],
   "source": [
    "a = 2\n",
    "b = 3\n",
    "c = 'This is a string test.'\n",
    "\n",
    "a + b "
   ]
  },
  {
   "cell_type": "code",
   "execution_count": null,
   "id": "9f2ecc2e",
   "metadata": {},
   "outputs": [],
   "source": [
    "c"
   ]
  }
 ],
 "metadata": {
  "kernelspec": {
   "display_name": "venv",
   "language": "python",
   "name": "python3"
  },
  "language_info": {
   "codemirror_mode": {
    "name": "ipython",
    "version": 3
   },
   "file_extension": ".py",
   "mimetype": "text/x-python",
   "name": "python",
   "nbconvert_exporter": "python",
   "pygments_lexer": "ipython3",
   "version": "3.12.4"
  }
 },
 "nbformat": 4,
 "nbformat_minor": 5
}
